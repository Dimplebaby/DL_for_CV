{
  "cells": [
    {
      "cell_type": "markdown",
      "metadata": {
        "id": "view-in-github",
        "colab_type": "text"
      },
      "source": [
        "<a href=\"https://colab.research.google.com/github/Dimplebaby/DL_for_CV/blob/main/Autoencoders_Digits.ipynb\" target=\"_parent\"><img src=\"https://colab.research.google.com/assets/colab-badge.svg\" alt=\"Open In Colab\"/></a>"
      ]
    },
    {
      "cell_type": "markdown",
      "source": [
        "Setting ur environment"
      ],
      "metadata": {
        "id": "R0G0GAM82m0k"
      },
      "id": "R0G0GAM82m0k"
    },
    {
      "cell_type": "code",
      "execution_count": 1,
      "id": "51141597",
      "metadata": {
        "id": "51141597"
      },
      "outputs": [],
      "source": [
        "import os\n",
        "os.environ[\"CUDA_DEVICE_ORDER\"]=\"PCI_BUS_ID\"\n",
        "os.environ[\"CUDA_VISIBLE_DEVICES\"]=\"1\" #model will be trained on GPU 1"
      ]
    },
    {
      "cell_type": "code",
      "source": [
        "from google.colab import drive\n",
        "drive.mount('/content/drive')"
      ],
      "metadata": {
        "colab": {
          "base_uri": "https://localhost:8080/"
        },
        "id": "ZY7gjCFv0vxS",
        "outputId": "d5457855-cf8a-4e49-d41b-04df79552797"
      },
      "id": "ZY7gjCFv0vxS",
      "execution_count": 2,
      "outputs": [
        {
          "output_type": "stream",
          "name": "stdout",
          "text": [
            "Mounted at /content/drive\n"
          ]
        }
      ]
    },
    {
      "cell_type": "code",
      "execution_count": 4,
      "id": "7b3fbe14",
      "metadata": {
        "id": "7b3fbe14"
      },
      "outputs": [],
      "source": [
        "import keras\n",
        "from matplotlib import pyplot as plt\n",
        "import numpy as np\n",
        "import gzip\n",
        "%matplotlib inline\n",
        "from keras.layers import Input,Conv2D,MaxPooling2D,UpSampling2D #encoder\n",
        "from keras.models import Model\n",
        "from keras.optimizers import RMSprop"
      ]
    },
    {
      "cell_type": "code",
      "execution_count": 5,
      "id": "b5e301aa",
      "metadata": {
        "id": "b5e301aa"
      },
      "outputs": [],
      "source": [
        "def extract_data(filename, num_images):\n",
        "    with gzip.open(filename) as bytestream:\n",
        "        bytestream.read(16)\n",
        "        buf = bytestream.read(28 * 28 * num_images)# num of images\n",
        "        data = np.frombuffer(buf, dtype=np.uint8).astype(np.float32)\n",
        "        data = data.reshape(num_images, 28,28)\n",
        "        return data"
      ]
    },
    {
      "cell_type": "code",
      "execution_count": 6,
      "id": "2ff3d586",
      "metadata": {
        "id": "2ff3d586"
      },
      "outputs": [],
      "source": [
        "train_data = extract_data('/content/drive/MyDrive/2.AI Workshops/2023/Cusat Fdp/Day_3_Autoencoder_GAN-20231028T045031Z-001/Day_3_Autoencoder_GAN/Autoencoder/train-images-idx3-ubyte.gz', 60000)\n",
        "#test_data = extract_data('t10k-images-idx3-ubyte.gz', 10000)\n",
        "\n",
        "test_data = extract_data('/content/drive/MyDrive/2.AI Workshops/2023/Cusat Fdp/Day_3_Autoencoder_GAN-20231028T045031Z-001/Day_3_Autoencoder_GAN/Autoencoder/t10k-images-idx3-ubyte.gz', 10000)"
      ]
    },
    {
      "cell_type": "code",
      "execution_count": 7,
      "id": "e27adde4",
      "metadata": {
        "id": "e27adde4"
      },
      "outputs": [],
      "source": [
        "def extract_labels(filename, num_images):\n",
        "    with gzip.open(filename) as bytestream:\n",
        "        bytestream.read(8)\n",
        "        buf = bytestream.read(1 * num_images)\n",
        "        labels = np.frombuffer(buf, dtype=np.uint8).astype(np.int64)\n",
        "        return labels"
      ]
    },
    {
      "cell_type": "code",
      "execution_count": 8,
      "id": "b04b3316",
      "metadata": {
        "colab": {
          "base_uri": "https://localhost:8080/"
        },
        "id": "b04b3316",
        "outputId": "9c8c652e-d2f4-4994-9298-102bf38ae21f"
      },
      "outputs": [
        {
          "output_type": "stream",
          "name": "stdout",
          "text": [
            "Training set (images) shape: (60000, 28, 28)\n",
            "Test set (images) shape: (10000, 28, 28)\n"
          ]
        }
      ],
      "source": [
        "# Shapes of training set\n",
        "print(\"Training set (images) shape: {shape}\".format(shape=train_data.shape))\n",
        "\n",
        "# Shapes of test set\n",
        "print(\"Test set (images) shape: {shape}\".format(shape=test_data.shape))"
      ]
    },
    {
      "cell_type": "code",
      "execution_count": 10,
      "id": "9508b909",
      "metadata": {
        "id": "9508b909"
      },
      "outputs": [],
      "source": [
        "#train_labels = extract_labels('train-labels-idx1-ubyte.gz',60000)\n",
        "#test_labels = extract_labels('t10k-labels-idx1-ubyte.gz',10000)\n",
        "\n",
        "train_labels = extract_labels('/content/drive/MyDrive/2.AI Workshops/2023/Cusat Fdp/Day_3_Autoencoder_GAN-20231028T045031Z-001/Day_3_Autoencoder_GAN/Autoencoder/train-labels-idx1-ubyte.gz',60000)\n",
        "test_labels = extract_labels('/content/drive/MyDrive/2.AI Workshops/2023/Cusat Fdp/Day_3_Autoencoder_GAN-20231028T045031Z-001/Day_3_Autoencoder_GAN/Autoencoder/t10k-labels-idx1-ubyte.gz',10000)"
      ]
    },
    {
      "cell_type": "code",
      "execution_count": 11,
      "id": "cf65f365",
      "metadata": {
        "id": "cf65f365"
      },
      "outputs": [],
      "source": [
        "# Create dictionary of target classes\n",
        "label_dict = {\n",
        " 0: 'A',\n",
        " 1: 'B',\n",
        " 2: 'C',\n",
        " 3: 'D',\n",
        " 4: 'E',\n",
        " 5: 'F',\n",
        " 6: 'G',\n",
        " 7: 'H',\n",
        " 8: 'I',\n",
        " 9: 'J',\n",
        "}"
      ]
    },
    {
      "cell_type": "code",
      "execution_count": 12,
      "id": "73eed2d9",
      "metadata": {
        "colab": {
          "base_uri": "https://localhost:8080/",
          "height": 277
        },
        "id": "73eed2d9",
        "outputId": "b33bf6d1-6436-422b-a07c-f5805a3eb1c1"
      },
      "outputs": [
        {
          "output_type": "execute_result",
          "data": {
            "text/plain": [
              "Text(0.5, 1.0, '(Label: D)')"
            ]
          },
          "metadata": {},
          "execution_count": 12
        },
        {
          "output_type": "display_data",
          "data": {
            "text/plain": [
              "<Figure size 500x500 with 2 Axes>"
            ],
            "image/png": "[encoded data removed]"
          },
          "metadata": {}
        }
      ],
      "source": [
        "plt.figure(figsize=[5,5])\n",
        "\n",
        "# Display the first image in training data\n",
        "plt.subplot(121)\n",
        "curr_img = np.reshape(train_data[0], (28,28))\n",
        "curr_lbl = train_labels[0]\n",
        "plt.imshow(curr_img, cmap='gray')\n",
        "plt.title(\"(Label: \" + str(label_dict[curr_lbl]) + \")\")\n",
        "\n",
        "# Display the first image in testing data\n",
        "plt.subplot(122)\n",
        "curr_img = np.reshape(test_data[0], (28,28))\n",
        "curr_lbl = test_labels[0]\n",
        "plt.imshow(curr_img, cmap='gray')\n",
        "plt.title(\"(Label: \" + str(label_dict[curr_lbl]) + \")\")"
      ]
    },
    {
      "cell_type": "code",
      "execution_count": 13,
      "id": "409d9765",
      "metadata": {
        "colab": {
          "base_uri": "https://localhost:8080/"
        },
        "id": "409d9765",
        "outputId": "49f263a9-f750-4292-b17f-6777c56b57cd"
      },
      "outputs": [
        {
          "output_type": "execute_result",
          "data": {
            "text/plain": [
              "((60000, 28, 28, 1), (10000, 28, 28, 1))"
            ]
          },
          "metadata": {},
          "execution_count": 13
        }
      ],
      "source": [
        "train_data = train_data.reshape(-1, 28,28, 1)\n",
        "test_data = test_data.reshape(-1, 28,28, 1)\n",
        "train_data.shape, test_data.shape"
      ]
    },
    {
      "cell_type": "code",
      "execution_count": 14,
      "id": "1e5e837b",
      "metadata": {
        "colab": {
          "base_uri": "https://localhost:8080/"
        },
        "id": "1e5e837b",
        "outputId": "f3e94cdf-fcf3-4675-973e-fd4e5a5c6837"
      },
      "outputs": [
        {
          "output_type": "execute_result",
          "data": {
            "text/plain": [
              "(dtype('float32'), dtype('float32'))"
            ]
          },
          "metadata": {},
          "execution_count": 14
        }
      ],
      "source": [
        "train_data.dtype, test_data.dtype"
      ]
    },
    {
      "cell_type": "code",
      "execution_count": 15,
      "id": "627f0a22",
      "metadata": {
        "colab": {
          "base_uri": "https://localhost:8080/"
        },
        "id": "627f0a22",
        "outputId": "1c164f35-cc58-4e41-87c9-64181169e366"
      },
      "outputs": [
        {
          "output_type": "execute_result",
          "data": {
            "text/plain": [
              "(255.0, 255.0)"
            ]
          },
          "metadata": {},
          "execution_count": 15
        }
      ],
      "source": [
        "np.max(train_data), np.max(test_data)"
      ]
    },
    {
      "cell_type": "code",
      "execution_count": 16,
      "id": "6e9412e9",
      "metadata": {
        "id": "6e9412e9"
      },
      "outputs": [],
      "source": [
        "train_data = train_data / np.max(train_data)\n",
        "test_data = test_data / np.max(test_data)"
      ]
    },
    {
      "cell_type": "code",
      "execution_count": 17,
      "id": "ebe71e8d",
      "metadata": {
        "colab": {
          "base_uri": "https://localhost:8080/"
        },
        "id": "ebe71e8d",
        "outputId": "b2ee48b6-35a5-4cab-bff8-7ef2ff48a0b6"
      },
      "outputs": [
        {
          "output_type": "execute_result",
          "data": {
            "text/plain": [
              "(1.0, 1.0)"
            ]
          },
          "metadata": {},
          "execution_count": 17
        }
      ],
      "source": [
        "np.max(train_data), np.max(test_data)"
      ]
    },
    {
      "cell_type": "code",
      "execution_count": 18,
      "id": "26032ed8",
      "metadata": {
        "id": "26032ed8"
      },
      "outputs": [],
      "source": [
        "from sklearn.model_selection import train_test_split\n",
        "train_X,valid_X,train_ground,valid_ground = train_test_split(train_data,\n",
        "                                                             train_data,\n",
        "                                                             test_size=0.2,\n",
        "                                                             random_state=13)"
      ]
    },
    {
      "cell_type": "code",
      "execution_count": 19,
      "id": "bc09ec8b",
      "metadata": {
        "id": "bc09ec8b"
      },
      "outputs": [],
      "source": [
        "batch_size = 128\n",
        "epochs = 50\n",
        "inChannel = 1\n",
        "x, y = 28, 28\n",
        "input_img = Input(shape = (x, y, inChannel))"
      ]
    },
    {
      "cell_type": "code",
      "execution_count": 20,
      "id": "ba369e56",
      "metadata": {
        "id": "ba369e56"
      },
      "outputs": [],
      "source": [
        "def autoencoder(input_img):\n",
        "    #encoder\n",
        "    #input = 28 x 28 x 1 (wide and thin)\n",
        "    conv1 = Conv2D(32, (3, 3), activation='relu', padding='same')(input_img) #28 x 28 x 32 no of filters 3x# feature mao\n",
        "    pool1 = MaxPooling2D(pool_size=(2, 2))(conv1) #14 x 14 x 32 images so 2D 1D for signnal\n",
        "    conv2 = Conv2D(64, (3, 3), activation='relu', padding='same')(pool1) #14 x 14 x 64\n",
        "    pool2 = MaxPooling2D(pool_size=(2, 2))(conv2) #7 x 7 x 64\n",
        "    conv3 = Conv2D(128, (3, 3), activation='relu', padding='same')(pool2) #7 x 7 x 128 (small and thick)\n",
        "\n",
        "    #decoder\n",
        "    conv4 = Conv2D(128, (3, 3), activation='relu', padding='same')(conv3) #7 x 7 x 128\n",
        "    up1 = UpSampling2D((2,2))(conv4) # 14 x 14 x 128 #\n",
        "    conv5 = Conv2D(64, (3, 3), activation='relu', padding='same')(up1) # 14 x 14 x 64\n",
        "    up2 = UpSampling2D((2,2))(conv5) # 28 x 28 x 64\n",
        "    decoded = Conv2D(1, (3, 3), activation='sigmoid', padding='same')(up2) # 28 x 28 x 1  # sigmoid when binary class here real or not\n",
        "    return decoded"
      ]
    },
    {
      "cell_type": "code",
      "execution_count": 21,
      "id": "16dcb71b",
      "metadata": {
        "id": "16dcb71b"
      },
      "outputs": [],
      "source": [
        "autoencoder = Model(input_img, autoencoder(input_img))\n",
        "autoencoder.compile(loss='mean_squared_error', optimizer = RMSprop())"
      ]
    },
    {
      "cell_type": "code",
      "execution_count": 22,
      "id": "6e418dbe",
      "metadata": {
        "colab": {
          "base_uri": "https://localhost:8080/"
        },
        "id": "6e418dbe",
        "outputId": "d21d025e-51c3-4b3a-ead8-3d7b38841bf8"
      },
      "outputs": [
        {
          "output_type": "stream",
          "name": "stdout",
          "text": [
            "Model: \"model\"\n",
            "_________________________________________________________________\n",
            " Layer (type)                Output Shape              Param #   \n",
            "=================================================================\n",
            " input_1 (InputLayer)        [(None, 28, 28, 1)]       0         \n",
            "                                                                 \n",
            " conv2d (Conv2D)             (None, 28, 28, 32)        320       \n",
            "                                                                 \n",
            " max_pooling2d (MaxPooling2  (None, 14, 14, 32)        0         \n",
            " D)                                                              \n",
            "                                                                 \n",
            " conv2d_1 (Conv2D)           (None, 14, 14, 64)        18496     \n",
            "                                                                 \n",
            " max_pooling2d_1 (MaxPoolin  (None, 7, 7, 64)          0         \n",
            " g2D)                                                            \n",
            "                                                                 \n",
            " conv2d_2 (Conv2D)           (None, 7, 7, 128)         73856     \n",
            "                                                                 \n",
            " conv2d_3 (Conv2D)           (None, 7, 7, 128)         147584    \n",
            "                                                                 \n",
            " up_sampling2d (UpSampling2  (None, 14, 14, 128)       0         \n",
            " D)                                                              \n",
            "                                                                 \n",
            " conv2d_4 (Conv2D)           (None, 14, 14, 64)        73792     \n",
            "                                                                 \n",
            " up_sampling2d_1 (UpSamplin  (None, 28, 28, 64)        0         \n",
            " g2D)                                                            \n",
            "                                                                 \n",
            " conv2d_5 (Conv2D)           (None, 28, 28, 1)         577       \n",
            "                                                                 \n",
            "=================================================================\n",
            "Total params: 314625 (1.20 MB)\n",
            "Trainable params: 314625 (1.20 MB)\n",
            "Non-trainable params: 0 (0.00 Byte)\n",
            "_________________________________________________________________\n"
          ]
        }
      ],
      "source": [
        "autoencoder.summary()"
      ]
    },
    {
      "cell_type": "markdown",
      "source": [
        "training starts"
      ],
      "metadata": {
        "id": "L7k2DT287sT3"
      },
      "id": "L7k2DT287sT3"
    },
    {
      "cell_type": "code",
      "execution_count": null,
      "id": "0a9a465f",
      "metadata": {
        "colab": {
          "base_uri": "https://localhost:8080/"
        },
        "id": "0a9a465f",
        "outputId": "41b05ef1-5f8e-4d37-d7e2-96eb7bb994e8"
      },
      "outputs": [
        {
          "output_type": "stream",
          "name": "stdout",
          "text": [
            "Epoch 1/50\n",
            "375/375 [==============================] - 303s 806ms/step - loss: 0.0438 - val_loss: 0.0190\n",
            "Epoch 2/50\n",
            "375/375 [==============================] - 289s 771ms/step - loss: 0.0152 - val_loss: 0.0127\n",
            "Epoch 3/50\n",
            "375/375 [==============================] - 282s 751ms/step - loss: 0.0112 - val_loss: 0.0097\n",
            "Epoch 4/50\n",
            "375/375 [==============================] - 297s 790ms/step - loss: 0.0092 - val_loss: 0.0093\n",
            "Epoch 5/50\n",
            "375/375 [==============================] - 302s 806ms/step - loss: 0.0080 - val_loss: 0.0078\n",
            "Epoch 6/50\n",
            "375/375 [==============================] - 285s 759ms/step - loss: 0.0072 - val_loss: 0.0066\n",
            "Epoch 7/50\n",
            "375/375 [==============================] - 281s 749ms/step - loss: 0.0066 - val_loss: 0.0062\n",
            "Epoch 8/50\n",
            "375/375 [==============================] - 282s 752ms/step - loss: 0.0062 - val_loss: 0.0060\n",
            "Epoch 9/50\n",
            "375/375 [==============================] - 283s 755ms/step - loss: 0.0058 - val_loss: 0.0053\n",
            "Epoch 10/50\n",
            "375/375 [==============================] - 286s 763ms/step - loss: 0.0055 - val_loss: 0.0051\n",
            "Epoch 11/50\n",
            "375/375 [==============================] - 280s 747ms/step - loss: 0.0052 - val_loss: 0.0050\n",
            "Epoch 12/50\n",
            "375/375 [==============================] - 283s 755ms/step - loss: 0.0050 - val_loss: 0.0046\n",
            "Epoch 13/50\n",
            "375/375 [==============================] - 286s 762ms/step - loss: 0.0048 - val_loss: 0.0053\n",
            "Epoch 14/50\n",
            "375/375 [==============================] - 283s 754ms/step - loss: 0.0046 - val_loss: 0.0044\n",
            "Epoch 15/50\n",
            "375/375 [==============================] - 283s 754ms/step - loss: 0.0044 - val_loss: 0.0043\n",
            "Epoch 16/50\n",
            "194/375 [==============>...............] - ETA: 2:09 - loss: 0.0043"
          ]
        }
      ],
      "source": [
        "autoencoder_train = autoencoder.fit(train_X, train_ground, batch_size=batch_size,epochs=epochs,verbose=1,validation_data=(valid_X, valid_ground))"
      ]
    },
    {
      "cell_type": "code",
      "execution_count": null,
      "id": "7b7715e8",
      "metadata": {
        "id": "7b7715e8",
        "outputId": "0e563393-ff7d-48aa-f232-834cff73b708"
      },
      "outputs": [
        {
          "data": {
            "image/png": "[encoded data removed]",
            "text/plain": [
              "<Figure size 640x480 with 1 Axes>"
            ]
          },
          "metadata": {},
          "output_type": "display_data"
        }
      ],
      "source": [
        "loss = autoencoder_train.history['loss']\n",
        "val_loss = autoencoder_train.history['val_loss']\n",
        "epochs = range(epochs)\n",
        "plt.figure()\n",
        "plt.plot(epochs, loss, 'bo', label='Training loss')\n",
        "plt.plot(epochs, val_loss, 'b', label='Validation loss')\n",
        "plt.title('Training and validation loss')\n",
        "plt.legend()\n",
        "plt.show()"
      ]
    },
    {
      "cell_type": "code",
      "execution_count": null,
      "id": "8e7c1ac7",
      "metadata": {
        "id": "8e7c1ac7",
        "outputId": "4683f00d-5087-4563-c89a-875dde223572"
      },
      "outputs": [
        {
          "name": "stdout",
          "output_type": "stream",
          "text": [
            "313/313 [==============================] - 6s 19ms/step\n"
          ]
        }
      ],
      "source": [
        "pred = autoencoder.predict(test_data)"
      ]
    },
    {
      "cell_type": "code",
      "execution_count": null,
      "id": "514c33c2",
      "metadata": {
        "id": "514c33c2",
        "outputId": "c1cfdf69-f9d2-4450-c67e-f91606af55d8"
      },
      "outputs": [
        {
          "data": {
            "text/plain": [
              "(10000, 28, 28, 1)"
            ]
          },
          "execution_count": 31,
          "metadata": {},
          "output_type": "execute_result"
        }
      ],
      "source": [
        "pred.shape"
      ]
    },
    {
      "cell_type": "code",
      "execution_count": null,
      "id": "4a8e8d75",
      "metadata": {
        "id": "4a8e8d75",
        "outputId": "522c04aa-6f32-4c47-e54d-04013bf00817"
      },
      "outputs": [
        {
          "name": "stdout",
          "output_type": "stream",
          "text": [
            "Test Images\n"
          ]
        },
        {
          "data": {
            "image/png": "[encoded data removed]",
            "text/plain": [
              "<Figure size 2000x400 with 10 Axes>"
            ]
          },
          "metadata": {},
          "output_type": "display_data"
        },
        {
          "name": "stdout",
          "output_type": "stream",
          "text": [
            "Reconstruction of Test Images\n"
          ]
        },
        {
          "data": {
            "image/png": "[encoded data removed]",
            "text/plain": [
              "<Figure size 2000x400 with 10 Axes>"
            ]
          },
          "metadata": {},
          "output_type": "display_data"
        }
      ],
      "source": [
        "plt.figure(figsize=(20, 4))\n",
        "print(\"Test Images\")\n",
        "for i in range(10):\n",
        "    plt.subplot(2, 10, i+1)\n",
        "    plt.imshow(test_data[i, ..., 0], cmap='gray')\n",
        "    curr_lbl = test_labels[i]\n",
        "    plt.title(\"(Label: \" + str(label_dict[curr_lbl]) + \")\")\n",
        "plt.show()\n",
        "plt.figure(figsize=(20, 4))\n",
        "print(\"Reconstruction of Test Images\")\n",
        "for i in range(10):\n",
        "    plt.subplot(2, 10, i+1)\n",
        "    plt.imshow(pred[i, ..., 0], cmap='gray')\n",
        "plt.show()"
      ]
    }
  ],
  "metadata": {
    "kernelspec": {
      "display_name": "Python 3",
      "name": "python3"
    },
    "language_info": {
      "codemirror_mode": {
        "name": "ipython",
        "version": 3
      },
      "file_extension": ".py",
      "mimetype": "text/x-python",
      "name": "python",
      "nbconvert_exporter": "python",
      "pygments_lexer": "ipython3",
      "version": "3.11.5"
    },
    "colab": {
      "provenance": [],
      "gpuType": "T4",
      "include_colab_link": true
    },
    "accelerator": "GPU"
  },
  "nbformat": 4,
  "nbformat_minor": 5
}